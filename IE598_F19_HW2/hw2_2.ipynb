{
 "cells": [
  {
   "cell_type": "code",
   "execution_count": 2,
   "metadata": {},
   "outputs": [
    {
     "name": "stdout",
     "output_type": "stream",
     "text": [
      "From DecisionTree: Test set accuracy: 0.67\n",
      "\n",
      "My name is Xin Wang\n",
      "My NetID is: xinw9\n",
      "I hereby certify that I have read the University policy on Academic Integrity and that I am not in violation.\n"
     ]
    }
   ],
   "source": [
    "import pandas as pd\n",
    "import numpy as np\n",
    "from sklearn.neighbors import KNeighborsClassifier\n",
    "from sklearn.model_selection import train_test_split\n",
    "from sklearn.tree import DecisionTreeClassifier\n",
    "from sklearn.metrics import accuracy_score\n",
    "import matplotlib.pyplot as plt\n",
    "\n",
    "# Read in file\n",
    "df = pd.read_csv('Treasury.csv')\n",
    "df=df.iloc[:,2:]\n",
    "df.head()\n",
    "# Create feature and target arrays\n",
    "y = df['squeeze'].values\n",
    "X = df.drop('squeeze', axis=1).values\n",
    "#print('Class labels:', np.unique(y))\n",
    "# Split into training and test set\n",
    "X_train, X_test, y_train, y_test = train_test_split(X, y, test_size = 0.2, random_state=1, stratify=y)\n",
    "\n",
    "# Instantiate dt\n",
    "dt = DecisionTreeClassifier(max_depth=6, random_state=1)\n",
    "# Fit dt to the training set\n",
    "dt.fit(X_train, y_train)\n",
    "# Predict test set labels\n",
    "y_pred = dt.predict(X_test)\n",
    "# Compute test set accuracy\n",
    "acc = accuracy_score(y_test, y_pred)\n",
    "print(\"From DecisionTree: Test set accuracy: {:.2f}\".format(acc))\n",
    "\n",
    "\n",
    "print(\"\\nMy name is Xin Wang\")\n",
    "print(\"My NetID is: xinw9\")\n",
    "print(\"I hereby certify that I have read the University policy on Academic Integrity and that I am not in violation.\")\n",
    "\n"
   ]
  },
  {
   "cell_type": "code",
   "execution_count": null,
   "metadata": {},
   "outputs": [],
   "source": []
  }
 ],
 "metadata": {
  "kernelspec": {
   "display_name": "Python 3",
   "language": "python",
   "name": "python3"
  },
  "language_info": {
   "codemirror_mode": {
    "name": "ipython",
    "version": 3
   },
   "file_extension": ".py",
   "mimetype": "text/x-python",
   "name": "python",
   "nbconvert_exporter": "python",
   "pygments_lexer": "ipython3",
   "version": "3.7.3"
  }
 },
 "nbformat": 4,
 "nbformat_minor": 2
}
