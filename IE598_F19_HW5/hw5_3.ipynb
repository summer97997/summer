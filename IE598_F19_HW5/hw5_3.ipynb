{
 "cells": [
  {
   "cell_type": "code",
   "execution_count": 17,
   "metadata": {},
   "outputs": [
    {
     "name": "stdout",
     "output_type": "stream",
     "text": [
      "Number of Rows of Data = 8635\n",
      "Number of Columns of Data = 32\n",
      "\n"
     ]
    }
   ],
   "source": [
    "import pandas as pd\n",
    "\n",
    "# Read in file\n",
    "df = pd.read_csv('hw5_treasury yield curve data.csv')\n",
    "\n",
    "# Get the row and column number\n",
    "ROW = df.shape[0]\n",
    "COL = df.shape[1]\n",
    "print(\"Number of Rows of Data = \" + str(ROW))\n",
    "print(\"Number of Columns of Data = \" + str(COL) + '\\n')\n",
    "\n",
    "df.head()\n",
    "df = df.drop('Date', axis = 1)\n",
    "\n",
    "# Remove missing values\n",
    "df=df.dropna()"
   ]
  },
  {
   "cell_type": "code",
   "execution_count": 37,
   "metadata": {},
   "outputs": [
    {
     "name": "stdout",
     "output_type": "stream",
     "text": [
      "For Linear Regression: \n",
      "\n",
      "Coefficients :-4.8384382819781955\n",
      "Intercept: 11.807\n",
      "R^2 train: 0.902, R^2 test: 0.904\n",
      "Root Mean Squared Error_test: 0.7766533040369936\n",
      "Root Mean Squared Error_train: 0.7823695855056676\n",
      "MSE train: 0.603, MSE test: 0.612\n"
     ]
    }
   ],
   "source": [
    "from sklearn.linear_model import LinearRegression\n",
    "from sklearn.model_selection import train_test_split\n",
    "from sklearn.metrics import r2_score\n",
    "import numpy as np\n",
    "from sklearn.metrics import mean_squared_error\n",
    "\n",
    "#df = df.iloc[:, 1:].values\n",
    "X = df.drop('Adj_Close', axis = 1)\n",
    "y = df['Adj_Close']\n",
    "\n",
    "X_train, X_test, y_train, y_test = train_test_split(X, y, test_size = 0.15, random_state=42)\n",
    "\n",
    "# Create the regressor\n",
    "slr = LinearRegression()\n",
    "\n",
    "# Fit the regressor to the training data\n",
    "slr.fit(X_train, y_train)\n",
    "\n",
    "# Predict on the test data\n",
    "y_train_pred = slr.predict(X_train)\n",
    "y_test_pred = slr.predict(X_test)\n",
    "\n",
    "# Get coefficients and y intercept\n",
    "print(\"For Linear Regression: \\n\")\n",
    "print(\"Coefficients :{}\".format(slr.coef_[0]))\n",
    "print('Intercept: %.3f' % slr.intercept_)\n",
    "\n",
    "# Compute and print R^2 and RMSE\n",
    "print('R^2 train: %.3f, R^2 test: %.3f' %(r2_score(y_train, y_train_pred),r2_score(y_test, y_test_pred)))\n",
    "rmse_train = np.sqrt(mean_squared_error(y_train,y_train_pred))\n",
    "print(\"Root Mean Squared Error_test: {}\".format(rmse))\n",
    "rmse_test = np.sqrt(mean_squared_error(y_test,y_test_pred))\n",
    "print(\"Root Mean Squared Error_train: {}\".format(rmse_test))\n",
    "print('MSE train: %.3f, MSE test: %.3f' % (mean_squared_error(y_train, y_train_pred),mean_squared_error(y_test, y_test_pred)))\n",
    "\n"
   ]
  },
  {
   "cell_type": "code",
   "execution_count": 35,
   "metadata": {},
   "outputs": [
    {
     "name": "stdout",
     "output_type": "stream",
     "text": [
      "For PCA: \n",
      "\n",
      "Coefficients :-0.2171293470583732\n",
      "Intercept: 5.498\n",
      "R^2 train: 0.868, R^2 test: 0.867\n",
      "Root Mean Squared Error_test: 0.7766533040369936\n",
      "Root Mean Squared Error_train: 0.9231445941473359\n",
      "MSE train: 0.818, MSE test: 0.852\n"
     ]
    }
   ],
   "source": [
    "from sklearn.decomposition import PCA\n",
    "\n",
    "pca = PCA(n_components = 3)\n",
    "# Fit the regressor to the training data\n",
    "pca.fit(X_train, y_train)\n",
    "\n",
    "X_train_pca, X_test_pca, y_train, y_test = train_test_split(pca.transform(X), y, test_size = 0.15, random_state = 42)\n",
    "\n",
    "# Fit the regressor to the training data\n",
    "slr.fit(X_train_pca, y_train)\n",
    "\n",
    "# Predict on the test data\n",
    "y_train_pred_pca = slr.predict(X_train_pca)\n",
    "y_test_pred_pca = slr.predict(X_test_pca)\n",
    "\n",
    "# Get coefficients and y intercept\n",
    "print(\"For PCA: \\n\")\n",
    "print(\"Coefficients :{}\".format(slr.coef_[0]))\n",
    "print('Intercept: %.3f' % slr.intercept_)\n",
    "\n",
    "# Compute and print R^2 and RMSE\n",
    "print('R^2 train: %.3f, R^2 test: %.3f' %(r2_score(y_train, y_train_pred_pca),r2_score(y_test, y_test_pred_pca)))\n",
    "rmse_train = np.sqrt(mean_squared_error(y_train,y_train_pred_pca))\n",
    "print(\"Root Mean Squared Error_test: {}\".format(rmse))\n",
    "rmse_test = np.sqrt(mean_squared_error(y_test,y_test_pred_pca))\n",
    "print(\"Root Mean Squared Error_train: {}\".format(rmse_test))\n",
    "print('MSE train: %.3f, MSE test: %.3f' % (mean_squared_error(y_train, y_train_pred_pca),mean_squared_error(y_test, y_test_pred_pca)))\n",
    "\n"
   ]
  },
  {
   "cell_type": "code",
   "execution_count": 33,
   "metadata": {},
   "outputs": [
    {
     "name": "stdout",
     "output_type": "stream",
     "text": [
      "For SVM: \n",
      "\n",
      "Coefficients :-0.2171293470583733\n",
      "Intercept: 5.498\n",
      "R^2 train: 0.893, R^2 test: 0.894\n",
      "Root Mean Squared Error_test: 0.7766533040369936\n",
      "Root Mean Squared Error_train: 0.820949302035238\n",
      "MSE train: 0.658, MSE test: 0.674\n"
     ]
    }
   ],
   "source": [
    "from sklearn.svm import SVR\n",
    "\n",
    "SVM = SVR(kernel = 'linear')\n",
    "# Fit the regressor to the training data\n",
    "SVM.fit(X_train, y_train)\n",
    "\n",
    "# Predict on the test data\n",
    "y_train_pred_svm = SVM.predict(X_train)\n",
    "y_test_pred_svm = SVM.predict(X_test)\n",
    "\n",
    "# Get coefficients and y intercept\n",
    "print(\"For SVM: \\n\")\n",
    "print(\"Coefficients :{}\".format(slr.coef_[0]))\n",
    "print('Intercept: %.3f' % slr.intercept_)\n",
    "\n",
    "# Compute and print R^2 and RMSE\n",
    "print('R^2 train: %.3f, R^2 test: %.3f' %(r2_score(y_train, y_train_pred_svm),r2_score(y_test, y_test_pred_svm)))\n",
    "rmse_train = np.sqrt(mean_squared_error(y_train,y_train_pred_svm))\n",
    "print(\"Root Mean Squared Error_test: {}\".format(rmse))\n",
    "rmse_test = np.sqrt(mean_squared_error(y_test,y_test_pred_svm))\n",
    "print(\"Root Mean Squared Error_train: {}\".format(rmse_test))\n",
    "print('MSE train: %.3f, MSE test: %.3f' % (mean_squared_error(y_train, y_train_pred_svm),mean_squared_error(y_test, y_test_pred_svm)))\n",
    "\n"
   ]
  },
  {
   "cell_type": "code",
   "execution_count": 38,
   "metadata": {},
   "outputs": [
    {
     "name": "stdout",
     "output_type": "stream",
     "text": [
      "My name is Xin Wang\n",
      "My NetID is: xinw9\n",
      "I hereby certify that I have read the University policy on Academic Integrity and that I am not in violation.\n"
     ]
    }
   ],
   "source": [
    "print(\"My name is Xin Wang\")\n",
    "print(\"My NetID is: xinw9\")\n",
    "print(\"I hereby certify that I have read the University policy on Academic Integrity and that I am not in violation.\")\n",
    "\n",
    "\n"
   ]
  },
  {
   "cell_type": "code",
   "execution_count": null,
   "metadata": {},
   "outputs": [],
   "source": []
  }
 ],
 "metadata": {
  "kernelspec": {
   "display_name": "Python 3",
   "language": "python",
   "name": "python3"
  },
  "language_info": {
   "codemirror_mode": {
    "name": "ipython",
    "version": 3
   },
   "file_extension": ".py",
   "mimetype": "text/x-python",
   "name": "python",
   "nbconvert_exporter": "python",
   "pygments_lexer": "ipython3",
   "version": "3.7.3"
  }
 },
 "nbformat": 4,
 "nbformat_minor": 2
}
